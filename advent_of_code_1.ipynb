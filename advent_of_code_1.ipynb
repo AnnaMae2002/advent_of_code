{
  "nbformat": 4,
  "nbformat_minor": 0,
  "metadata": {
    "colab": {
      "name": "advent of code.ipynb",
      "provenance": [],
      "collapsed_sections": [],
      "include_colab_link": true
    },
    "kernelspec": {
      "name": "python3",
      "display_name": "Python 3"
    }
  },
  "cells": [
    {
      "cell_type": "markdown",
      "metadata": {
        "id": "view-in-github",
        "colab_type": "text"
      },
      "source": [
        "<a href=\"https://colab.research.google.com/github/mccanndavidp/advent_of_code/blob/master/advent_of_code_1.ipynb\" target=\"_parent\"><img src=\"https://colab.research.google.com/assets/colab-badge.svg\" alt=\"Open In Colab\"/></a>"
      ]
    },
    {
      "cell_type": "code",
      "metadata": {
        "id": "Zs-NkUb8sqor",
        "colab_type": "code",
        "colab": {
          "base_uri": "https://localhost:8080/",
          "height": 374
        },
        "outputId": "94a784ab-8df3-4445-a146-2f263f0b6e04"
      },
      "source": [
        " !pip install git+https://github.com/wimglenn/advent-of-code-data.git"
      ],
      "execution_count": 1,
      "outputs": [
        {
          "output_type": "stream",
          "text": [
            "Collecting git+https://github.com/wimglenn/advent-of-code-data.git\n",
            "  Cloning https://github.com/wimglenn/advent-of-code-data.git to /tmp/pip-req-build-or1f8tn7\n",
            "  Running command git clone -q https://github.com/wimglenn/advent-of-code-data.git /tmp/pip-req-build-or1f8tn7\n",
            "Requirement already satisfied: python-dateutil in /usr/local/lib/python3.6/dist-packages (from advent-of-code-data==0.8.5) (2.6.1)\n",
            "Requirement already satisfied: requests in /usr/local/lib/python3.6/dist-packages (from advent-of-code-data==0.8.5) (2.21.0)\n",
            "Requirement already satisfied: termcolor in /usr/local/lib/python3.6/dist-packages (from advent-of-code-data==0.8.5) (1.1.0)\n",
            "Requirement already satisfied: beautifulsoup4 in /usr/local/lib/python3.6/dist-packages (from advent-of-code-data==0.8.5) (4.6.3)\n",
            "Collecting pebble\n",
            "  Downloading https://files.pythonhosted.org/packages/15/a6/1d3bc1ac80c6bdde8f3b169a1e7fbd8efe187b0311bf87a395c76c8f267f/Pebble-4.4.0-py2.py3-none-any.whl\n",
            "Requirement already satisfied: six>=1.5 in /usr/local/lib/python3.6/dist-packages (from python-dateutil->advent-of-code-data==0.8.5) (1.12.0)\n",
            "Requirement already satisfied: idna<2.9,>=2.5 in /usr/local/lib/python3.6/dist-packages (from requests->advent-of-code-data==0.8.5) (2.8)\n",
            "Requirement already satisfied: urllib3<1.25,>=1.21.1 in /usr/local/lib/python3.6/dist-packages (from requests->advent-of-code-data==0.8.5) (1.24.3)\n",
            "Requirement already satisfied: chardet<3.1.0,>=3.0.2 in /usr/local/lib/python3.6/dist-packages (from requests->advent-of-code-data==0.8.5) (3.0.4)\n",
            "Requirement already satisfied: certifi>=2017.4.17 in /usr/local/lib/python3.6/dist-packages (from requests->advent-of-code-data==0.8.5) (2019.11.28)\n",
            "Building wheels for collected packages: advent-of-code-data\n",
            "  Building wheel for advent-of-code-data (setup.py) ... \u001b[?25l\u001b[?25hdone\n",
            "  Created wheel for advent-of-code-data: filename=advent_of_code_data-0.8.5-py2.py3-none-any.whl size=17702 sha256=e97a66c08acb27b4d229c6a31e975f60629a17fdd3526494bab424c78808c266\n",
            "  Stored in directory: /tmp/pip-ephem-wheel-cache-8i3q5qrb/wheels/60/e5/25/276cd7cce853ccf2082e796a915f35d4d151efa32672e18757\n",
            "Successfully built advent-of-code-data\n",
            "Installing collected packages: pebble, advent-of-code-data\n",
            "Successfully installed advent-of-code-data-0.8.5 pebble-4.4.0\n"
          ],
          "name": "stdout"
        }
      ]
    },
    {
      "cell_type": "code",
      "metadata": {
        "id": "NU-e8_C2tMIp",
        "colab_type": "code",
        "colab": {}
      },
      "source": [
        "from aocd import submit"
      ],
      "execution_count": 0,
      "outputs": []
    },
    {
      "cell_type": "code",
      "metadata": {
        "id": "lwgXxpp0tbZ2",
        "colab_type": "code",
        "colab": {
          "base_uri": "https://localhost:8080/",
          "height": 34
        },
        "outputId": "a4d4a151-583f-4082-a923-762c9514ffbc"
      },
      "source": [
        "%env AOC_SESSION=53616c7465645f5fc9c6abc0b323402ba5333f34342750e82009505b89f5f694f7f0ff0d882813b0440eecde30160da5"
      ],
      "execution_count": 11,
      "outputs": [
        {
          "output_type": "stream",
          "text": [
            "env: AOC_SESSION=53616c7465645f5fc9c6abc0b323402ba5333f34342750e82009505b89f5f694f7f0ff0d882813b0440eecde30160da5\n"
          ],
          "name": "stdout"
        }
      ]
    },
    {
      "cell_type": "code",
      "metadata": {
        "id": "5xo_Pmoru1Dm",
        "colab_type": "code",
        "colab": {}
      },
      "source": [
        "from aocd import data"
      ],
      "execution_count": 0,
      "outputs": []
    },
    {
      "cell_type": "code",
      "metadata": {
        "id": "CiFqVsz4vdSX",
        "colab_type": "code",
        "colab": {
          "base_uri": "https://localhost:8080/",
          "height": 1000
        },
        "outputId": "04b3e04b-8003-4b50-aa3e-4a5d4b2b8312"
      },
      "source": [
        "from aocd import get_data\n",
        "data=get_data(day=1, year=2019)\n",
        "data"
      ],
      "execution_count": 15,
      "outputs": [
        {
          "output_type": "execute_result",
          "data": {
            "text/plain": [
              "['92349',\n",
              " '57040',\n",
              " '64079',\n",
              " '121555',\n",
              " '143735',\n",
              " '64642',\n",
              " '104858',\n",
              " '144446',\n",
              " '88871',\n",
              " '62338',\n",
              " '113424',\n",
              " '59960',\n",
              " '53999',\n",
              " '86867',\n",
              " '67224',\n",
              " '124130',\n",
              " '108921',\n",
              " '130492',\n",
              " '120361',\n",
              " '74426',\n",
              " '70397',\n",
              " '88106',\n",
              " '125442',\n",
              " '74237',\n",
              " '137818',\n",
              " '66633',\n",
              " '71756',\n",
              " '143276',\n",
              " '143456',\n",
              " '135698',\n",
              " '121124',\n",
              " '67739',\n",
              " '112861',\n",
              " '78572',\n",
              " '73565',\n",
              " '111899',\n",
              " '57543',\n",
              " '130314',\n",
              " '121605',\n",
              " '121426',\n",
              " '117143',\n",
              " '129957',\n",
              " '98042',\n",
              " '104760',\n",
              " '144846',\n",
              " '131238',\n",
              " '101076',\n",
              " '53328',\n",
              " '83592',\n",
              " '104077',\n",
              " '101952',\n",
              " '54137',\n",
              " '115363',\n",
              " '60556',\n",
              " '133086',\n",
              " '113361',\n",
              " '117829',\n",
              " '75003',\n",
              " '93729',\n",
              " '140022',\n",
              " '126219',\n",
              " '59907',\n",
              " '140589',\n",
              " '91812',\n",
              " '50485',\n",
              " '56232',\n",
              " '92858',\n",
              " '106820',\n",
              " '123423',\n",
              " '98553',\n",
              " '135315',\n",
              " '95583',\n",
              " '72278',\n",
              " '98702',\n",
              " '55709',\n",
              " '146773',\n",
              " '89719',\n",
              " '134752',\n",
              " '79562',\n",
              " '70455',\n",
              " '88468',\n",
              " '139824',\n",
              " '138646',\n",
              " '117516',\n",
              " '123267',\n",
              " '113754',\n",
              " '120353',\n",
              " '139145',\n",
              " '53219',\n",
              " '63053',\n",
              " '131434',\n",
              " '91705',\n",
              " '53650',\n",
              " '145234',\n",
              " '78461',\n",
              " '119587',\n",
              " '108976',\n",
              " '113613',\n",
              " '121790',\n",
              " '120366']"
            ]
          },
          "metadata": {
            "tags": []
          },
          "execution_count": 15
        }
      ]
    },
    {
      "cell_type": "code",
      "metadata": {
        "id": "Mv__SGBywPel",
        "colab_type": "code",
        "colab": {}
      },
      "source": [
        "data.splitlines()"
      ],
      "execution_count": 0,
      "outputs": []
    },
    {
      "cell_type": "code",
      "metadata": {
        "id": "Tm8_pchBwRdo",
        "colab_type": "code",
        "colab": {
          "base_uri": "https://localhost:8080/",
          "height": 1000
        },
        "outputId": "b596e814-770a-4408-d648-7c047670ae8a"
      },
      "source": [
        "[int(item) for item in data.splitlines()]"
      ],
      "execution_count": 18,
      "outputs": [
        {
          "output_type": "execute_result",
          "data": {
            "text/plain": [
              "[92349,\n",
              " 57040,\n",
              " 64079,\n",
              " 121555,\n",
              " 143735,\n",
              " 64642,\n",
              " 104858,\n",
              " 144446,\n",
              " 88871,\n",
              " 62338,\n",
              " 113424,\n",
              " 59960,\n",
              " 53999,\n",
              " 86867,\n",
              " 67224,\n",
              " 124130,\n",
              " 108921,\n",
              " 130492,\n",
              " 120361,\n",
              " 74426,\n",
              " 70397,\n",
              " 88106,\n",
              " 125442,\n",
              " 74237,\n",
              " 137818,\n",
              " 66633,\n",
              " 71756,\n",
              " 143276,\n",
              " 143456,\n",
              " 135698,\n",
              " 121124,\n",
              " 67739,\n",
              " 112861,\n",
              " 78572,\n",
              " 73565,\n",
              " 111899,\n",
              " 57543,\n",
              " 130314,\n",
              " 121605,\n",
              " 121426,\n",
              " 117143,\n",
              " 129957,\n",
              " 98042,\n",
              " 104760,\n",
              " 144846,\n",
              " 131238,\n",
              " 101076,\n",
              " 53328,\n",
              " 83592,\n",
              " 104077,\n",
              " 101952,\n",
              " 54137,\n",
              " 115363,\n",
              " 60556,\n",
              " 133086,\n",
              " 113361,\n",
              " 117829,\n",
              " 75003,\n",
              " 93729,\n",
              " 140022,\n",
              " 126219,\n",
              " 59907,\n",
              " 140589,\n",
              " 91812,\n",
              " 50485,\n",
              " 56232,\n",
              " 92858,\n",
              " 106820,\n",
              " 123423,\n",
              " 98553,\n",
              " 135315,\n",
              " 95583,\n",
              " 72278,\n",
              " 98702,\n",
              " 55709,\n",
              " 146773,\n",
              " 89719,\n",
              " 134752,\n",
              " 79562,\n",
              " 70455,\n",
              " 88468,\n",
              " 139824,\n",
              " 138646,\n",
              " 117516,\n",
              " 123267,\n",
              " 113754,\n",
              " 120353,\n",
              " 139145,\n",
              " 53219,\n",
              " 63053,\n",
              " 131434,\n",
              " 91705,\n",
              " 53650,\n",
              " 145234,\n",
              " 78461,\n",
              " 119587,\n",
              " 108976,\n",
              " 113613,\n",
              " 121790,\n",
              " 120366]"
            ]
          },
          "metadata": {
            "tags": []
          },
          "execution_count": 18
        }
      ]
    },
    {
      "cell_type": "code",
      "metadata": {
        "id": "zmo2wEGxwRbc",
        "colab_type": "code",
        "colab": {}
      },
      "source": [
        ""
      ],
      "execution_count": 0,
      "outputs": []
    },
    {
      "cell_type": "code",
      "metadata": {
        "id": "5R5aCEHqwRZU",
        "colab_type": "code",
        "colab": {}
      },
      "source": [
        ""
      ],
      "execution_count": 0,
      "outputs": []
    },
    {
      "cell_type": "code",
      "metadata": {
        "id": "Qc5cfuDcwRUc",
        "colab_type": "code",
        "colab": {}
      },
      "source": [
        ""
      ],
      "execution_count": 0,
      "outputs": []
    },
    {
      "cell_type": "code",
      "metadata": {
        "id": "Odp9_gpKwRR6",
        "colab_type": "code",
        "colab": {}
      },
      "source": [
        ""
      ],
      "execution_count": 0,
      "outputs": []
    },
    {
      "cell_type": "code",
      "metadata": {
        "id": "DpoKQ6IWwROW",
        "colab_type": "code",
        "colab": {}
      },
      "source": [
        ""
      ],
      "execution_count": 0,
      "outputs": []
    },
    {
      "cell_type": "code",
      "metadata": {
        "id": "1n69DxfAukAd",
        "colab_type": "code",
        "colab": {}
      },
      "source": [
        "\n",
        "submit(my_answer, part=\"a\", day=25, year=2017)"
      ],
      "execution_count": 0,
      "outputs": []
    }
  ]
}